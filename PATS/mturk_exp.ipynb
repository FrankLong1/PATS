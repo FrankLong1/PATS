{
 "cells": [
  {
   "cell_type": "code",
   "execution_count": 1,
   "metadata": {},
   "outputs": [
    {
     "name": "stdout",
     "output_type": "stream",
     "text": [
      "I have $10000.00 in my Sandbox account\n"
     ]
    }
   ],
   "source": [
    "import boto3\n",
    "import info as info\n",
    "\n",
    "MTURK_SANDBOX = 'https://mturk-requester-sandbox.us-east-1.amazonaws.com'\n",
    "\n",
    "mturk = boto3.client('mturk',\n",
    "   aws_access_key_id = info.acct[\"access_key\"],\n",
    "   aws_secret_access_key = info.acct[\"secret_key\"],\n",
    "   region_name='us-east-1',\n",
    "   endpoint_url = MTURK_SANDBOX\n",
    ")\n",
    "\n",
    "print(\"I have $\" + mturk.get_account_balance()['AvailableBalance'] + \" in my Sandbox account\")"
   ]
  },
  {
   "cell_type": "code",
   "execution_count": null,
   "metadata": {},
   "outputs": [],
   "source": []
  }
 ],
 "metadata": {
  "kernelspec": {
   "display_name": "Python 3",
   "language": "python",
   "name": "python3"
  },
  "language_info": {
   "codemirror_mode": {
    "name": "ipython",
    "version": 3
   },
   "file_extension": ".py",
   "mimetype": "text/x-python",
   "name": "python",
   "nbconvert_exporter": "python",
   "pygments_lexer": "ipython3",
   "version": "3.7.7"
  }
 },
 "nbformat": 4,
 "nbformat_minor": 4
}
