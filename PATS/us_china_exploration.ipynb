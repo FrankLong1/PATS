{
 "cells": [
  {
   "cell_type": "code",
   "execution_count": 1,
   "metadata": {},
   "outputs": [],
   "source": [
    "import os\n",
    "import pandas as pd\n",
    "import matplotlib.pyplot as plt\n",
    "import networkx as nx"
   ]
  },
  {
   "cell_type": "code",
   "execution_count": 2,
   "metadata": {},
   "outputs": [
    {
     "data": {
      "text/plain": [
       "(15400, 8)"
      ]
     },
     "execution_count": 2,
     "metadata": {},
     "output_type": "execute_result"
    }
   ],
   "source": [
    "# All US labeled papers\n",
    "path = '/Users/jmak/Documents/A Schmidt Futures/project-dewey/Dewey2/output/filtered_titles_20200922-212948.csv'\n",
    "us_papers = pd.read_csv(path)\n",
    "us_papers.shape"
   ]
  },
  {
   "cell_type": "code",
   "execution_count": 3,
   "metadata": {},
   "outputs": [
    {
     "data": {
      "text/html": [
       "<div>\n",
       "<style scoped>\n",
       "    .dataframe tbody tr th:only-of-type {\n",
       "        vertical-align: middle;\n",
       "    }\n",
       "\n",
       "    .dataframe tbody tr th {\n",
       "        vertical-align: top;\n",
       "    }\n",
       "\n",
       "    .dataframe thead th {\n",
       "        text-align: right;\n",
       "    }\n",
       "</style>\n",
       "<table border=\"1\" class=\"dataframe\">\n",
       "  <thead>\n",
       "    <tr style=\"text-align: right;\">\n",
       "      <th></th>\n",
       "      <th>Unnamed: 0</th>\n",
       "      <th>year</th>\n",
       "      <th>title</th>\n",
       "      <th>authors_string</th>\n",
       "      <th>Countries</th>\n",
       "      <th>Institution</th>\n",
       "      <th>Institution Type</th>\n",
       "      <th>OpenSource</th>\n",
       "    </tr>\n",
       "  </thead>\n",
       "  <tbody>\n",
       "    <tr>\n",
       "      <th>0</th>\n",
       "      <td>0</td>\n",
       "      <td>2017</td>\n",
       "      <td>SnapNETS: Automatic Segmentation of Network Se...</td>\n",
       "      <td>Sorour E. Amiri, Liangzhe Chen, B. Aditya Prakash</td>\n",
       "      <td>US</td>\n",
       "      <td>Twitter, Virginia Tech</td>\n",
       "      <td>Academia, Company</td>\n",
       "      <td>NotOpenSource</td>\n",
       "    </tr>\n",
       "    <tr>\n",
       "      <th>1</th>\n",
       "      <td>1</td>\n",
       "      <td>2017</td>\n",
       "      <td>Taming the Matthew Effect in Online Markets wi...</td>\n",
       "      <td>Franco Berbeglia, Pascal Van Hentenryck</td>\n",
       "      <td>US</td>\n",
       "      <td>Carnegie Mellon, University of Michigan</td>\n",
       "      <td>Academia</td>\n",
       "      <td>NotOpenSource</td>\n",
       "    </tr>\n",
       "    <tr>\n",
       "      <th>2</th>\n",
       "      <td>2</td>\n",
       "      <td>2017</td>\n",
       "      <td>A Leukocyte Detection Technique in Blood Smear...</td>\n",
       "      <td>Deblina Bhattacharjee, Anand Paul</td>\n",
       "      <td>South Korea</td>\n",
       "      <td>Kyungpook National University</td>\n",
       "      <td>Academia</td>\n",
       "      <td>NotOpenSource</td>\n",
       "    </tr>\n",
       "    <tr>\n",
       "      <th>3</th>\n",
       "      <td>3</td>\n",
       "      <td>2017</td>\n",
       "      <td>Partitioned Sampling of Public Opinions Based ...</td>\n",
       "      <td>Weiran Huang, Liang Li, Wei Chen</td>\n",
       "      <td>China, US</td>\n",
       "      <td>Microsoft, Ant Financial, Tsinghua University</td>\n",
       "      <td>Academia, Company</td>\n",
       "      <td>NotOpenSource</td>\n",
       "    </tr>\n",
       "    <tr>\n",
       "      <th>4</th>\n",
       "      <td>4</td>\n",
       "      <td>2017</td>\n",
       "      <td>Novel Geometric Approach for Global Alignment ...</td>\n",
       "      <td>Yangwei Liu, Hu Ding, Danyang Chen, Jinhui Xu</td>\n",
       "      <td>US</td>\n",
       "      <td>SUNY Buffalo, Michigan State University</td>\n",
       "      <td>Academia</td>\n",
       "      <td>NotOpenSource</td>\n",
       "    </tr>\n",
       "  </tbody>\n",
       "</table>\n",
       "</div>"
      ],
      "text/plain": [
       "   Unnamed: 0  year                                              title  \\\n",
       "0           0  2017  SnapNETS: Automatic Segmentation of Network Se...   \n",
       "1           1  2017  Taming the Matthew Effect in Online Markets wi...   \n",
       "2           2  2017  A Leukocyte Detection Technique in Blood Smear...   \n",
       "3           3  2017  Partitioned Sampling of Public Opinions Based ...   \n",
       "4           4  2017  Novel Geometric Approach for Global Alignment ...   \n",
       "\n",
       "                                      authors_string    Countries  \\\n",
       "0  Sorour E. Amiri, Liangzhe Chen, B. Aditya Prakash           US   \n",
       "1            Franco Berbeglia, Pascal Van Hentenryck           US   \n",
       "2                  Deblina Bhattacharjee, Anand Paul  South Korea   \n",
       "3                   Weiran Huang, Liang Li, Wei Chen    China, US   \n",
       "4      Yangwei Liu, Hu Ding, Danyang Chen, Jinhui Xu           US   \n",
       "\n",
       "                                     Institution   Institution Type  \\\n",
       "0                         Twitter, Virginia Tech  Academia, Company   \n",
       "1        Carnegie Mellon, University of Michigan           Academia   \n",
       "2                  Kyungpook National University           Academia   \n",
       "3  Microsoft, Ant Financial, Tsinghua University  Academia, Company   \n",
       "4        SUNY Buffalo, Michigan State University           Academia   \n",
       "\n",
       "      OpenSource  \n",
       "0  NotOpenSource  \n",
       "1  NotOpenSource  \n",
       "2  NotOpenSource  \n",
       "3  NotOpenSource  \n",
       "4  NotOpenSource  "
      ]
     },
     "execution_count": 3,
     "metadata": {},
     "output_type": "execute_result"
    }
   ],
   "source": [
    "us_papers.head()"
   ]
  },
  {
   "cell_type": "code",
   "execution_count": 4,
   "metadata": {},
   "outputs": [
    {
     "name": "stdout",
     "output_type": "stream",
     "text": [
      "{'US': 9015, 'South Korea': 334, 'China': 3391, 'UK': 1249, 'Hong Kong': 528, 'Germany': 719, 'Singapore': 588, 'Japan': 542, 'France': 644, 'Australia': 781, 'Netherlands': 171, 'Canada': 997, 'Iran': 10, 'Israel': 462, 'Italy': 213, 'Finland': 78, 'Greece': 26, 'Austria': 186, 'Poland': 39, 'Czechia': 53, 'New Zealand': 4, 'Denmark': 74, 'India': 210, 'Switzerland': 319, 'Belgium': 110, 'Lebanon': 4, 'Sweden': 78, 'Taiwan': 60, 'Portugal': 24, 'Spain': 24, 'Ireland': 12, 'Russia': 74, 'Turkey': 7, 'Luxembourg': 18, 'Chile': 6, 'Norway': 8, 'Qatar': 15, 'UAE': 13, 'Uruguay': 4, 'Colombia': 1, 'Brazil': 2}\n"
     ]
    }
   ],
   "source": [
    "country_count = {}\n",
    "for row in us_papers.iterrows():\n",
    "    country_rows = row[1]['Countries']\n",
    "    if isinstance(country_rows, str):\n",
    "        for country in country_rows.split(','):\n",
    "            country = country.strip()\n",
    "            if country not in country_count:\n",
    "                country_count[country] = 1\n",
    "            else:\n",
    "                country_count[country] += 1\n",
    "            \n",
    "print(country_count)"
   ]
  },
  {
   "cell_type": "markdown",
   "metadata": {},
   "source": [
    "From above, we see that of the 5721 US academic papers, China collaborates on 507 of them compared to other countries."
   ]
  },
  {
   "cell_type": "code",
   "execution_count": 5,
   "metadata": {},
   "outputs": [
    {
     "name": "stdout",
     "output_type": "stream",
     "text": [
      "{'US': 100.0, 'China': 37.61508596783139, 'UK': 13.854686633388797, 'Canada': 11.05934553521908, 'Australia': 8.663338879645035, 'Germany': 7.975596228508042, 'France': 7.143649473100389, 'Singapore': 6.522462562396007, 'Japan': 6.012201885745979, 'Hong Kong': 5.856905158069884, 'Israel': 5.124792013311148, 'South Korea': 3.7049362174154186, 'Switzerland': 3.538546866333888, 'Italy': 2.3627287853577372, 'India': 2.329450915141431, 'Austria': 2.0632279534109816, 'Netherlands': 1.896838602329451, 'Belgium': 1.2201885745978924, 'Finland': 0.8652246256239602, 'Sweden': 0.8652246256239602, 'Denmark': 0.8208541320022186, 'Russia': 0.8208541320022186, 'Taiwan': 0.6655574043261231, 'Czechia': 0.5879090404880754, 'Poland': 0.4326123128119801, 'Greece': 0.28840820854132004, 'Portugal': 0.26622296173044924, 'Spain': 0.26622296173044924, 'Luxembourg': 0.19966722129783696, 'Qatar': 0.16638935108153077, 'UAE': 0.14420410427066002, 'Ireland': 0.13311148086522462, 'Iran': 0.11092623405435387, 'Norway': 0.08874098724348307, 'Turkey': 0.0776483638380477, 'Chile': 0.06655574043261231, 'New Zealand': 0.04437049362174154, 'Lebanon': 0.04437049362174154, 'Uruguay': 0.04437049362174154, 'Brazil': 0.02218524681087077, 'Colombia': 0.011092623405435384}\n"
     ]
    }
   ],
   "source": [
    "us_count = country_count['US']\n",
    "country_count = {k: (v / us_count)*100 for k, v in country_count.items()}\n",
    "country_count = {k:v for k,v in sorted(country_count.items(), key=lambda item: item[1],reverse=True)}\n",
    "print(country_count)"
   ]
  },
  {
   "cell_type": "markdown",
   "metadata": {},
   "source": [
    "The US collaborated with China on 8.86% of its papers from the years 2013-2019."
   ]
  },
  {
   "cell_type": "code",
   "execution_count": 12,
   "metadata": {},
   "outputs": [
    {
     "data": {
      "image/png": "[encoded data removed]",
      "text/plain": [
       "<Figure size 432x288 with 1 Axes>"
      ]
     },
     "metadata": {
      "needs_background": "light"
     },
     "output_type": "display_data"
    }
   ],
   "source": [
    "fig = plt.figure()\n",
    "ax = fig.add_axes([0,0,1,1])\n",
    "\n",
    "countries = ['China', 'Canada', 'UK', 'Singapore', 'Israel']\n",
    "pcts = [country_count['China'], country_count['Canada'], country_count['UK'], country_count['Singapore'], country_count['Israel']]\n",
    "ax.bar(countries, pcts)\n",
    "plt.ylabel(\"Percentage of US Academic Papers collaborated on (%)\")\n",
    "plt.title(\"US Academic Collaboration with Countries\")\n",
    "plt.show()"
   ]
  },
  {
   "cell_type": "code",
   "execution_count": 85,
   "metadata": {},
   "outputs": [
    {
     "data": {
      "text/html": [
       "<div>\n",
       "<style scoped>\n",
       "    .dataframe tbody tr th:only-of-type {\n",
       "        vertical-align: middle;\n",
       "    }\n",
       "\n",
       "    .dataframe tbody tr th {\n",
       "        vertical-align: top;\n",
       "    }\n",
       "\n",
       "    .dataframe thead th {\n",
       "        text-align: right;\n",
       "    }\n",
       "</style>\n",
       "<table border=\"1\" class=\"dataframe\">\n",
       "  <thead>\n",
       "    <tr style=\"text-align: right;\">\n",
       "      <th></th>\n",
       "      <th>Unnamed: 0</th>\n",
       "      <th>year</th>\n",
       "      <th>title</th>\n",
       "      <th>authors_string</th>\n",
       "      <th>Countries</th>\n",
       "      <th>Institution</th>\n",
       "      <th>Institution Type</th>\n",
       "    </tr>\n",
       "  </thead>\n",
       "  <tbody>\n",
       "    <tr>\n",
       "      <th>0</th>\n",
       "      <td>0</td>\n",
       "      <td>2017</td>\n",
       "      <td>SnapNETS: Automatic Segmentation of Network Se...</td>\n",
       "      <td>Sorour E. Amiri, Liangzhe Chen, B. Aditya Prakash</td>\n",
       "      <td>US</td>\n",
       "      <td>Virginia Tech, Twitter</td>\n",
       "      <td>Academia, Company</td>\n",
       "    </tr>\n",
       "    <tr>\n",
       "      <th>1</th>\n",
       "      <td>1</td>\n",
       "      <td>2017</td>\n",
       "      <td>Taming the Matthew Effect in Online Markets wi...</td>\n",
       "      <td>Franco Berbeglia, Pascal Van Hentenryck</td>\n",
       "      <td>US</td>\n",
       "      <td>Carnegie Mellon, University of Michigan</td>\n",
       "      <td>Academia</td>\n",
       "    </tr>\n",
       "    <tr>\n",
       "      <th>3</th>\n",
       "      <td>3</td>\n",
       "      <td>2017</td>\n",
       "      <td>Partitioned Sampling of Public Opinions Based ...</td>\n",
       "      <td>Weiran Huang, Liang Li, Wei Chen</td>\n",
       "      <td>China, US</td>\n",
       "      <td>Ant Financial, Microsoft, Tsinghua University</td>\n",
       "      <td>Academia, Company</td>\n",
       "    </tr>\n",
       "    <tr>\n",
       "      <th>4</th>\n",
       "      <td>4</td>\n",
       "      <td>2017</td>\n",
       "      <td>Novel Geometric Approach for Global Alignment ...</td>\n",
       "      <td>Yangwei Liu, Hu Ding, Danyang Chen, Jinhui Xu</td>\n",
       "      <td>US</td>\n",
       "      <td>SUNY Buffalo, Michigan State University</td>\n",
       "      <td>Academia</td>\n",
       "    </tr>\n",
       "    <tr>\n",
       "      <th>6</th>\n",
       "      <td>6</td>\n",
       "      <td>2017</td>\n",
       "      <td>Profit-Driven Team Grouping in Social Networks</td>\n",
       "      <td>Shaojie Tang</td>\n",
       "      <td>US</td>\n",
       "      <td>UT Dallas</td>\n",
       "      <td>Academia</td>\n",
       "    </tr>\n",
       "  </tbody>\n",
       "</table>\n",
       "</div>"
      ],
      "text/plain": [
       "   Unnamed: 0  year                                              title  \\\n",
       "0           0  2017  SnapNETS: Automatic Segmentation of Network Se...   \n",
       "1           1  2017  Taming the Matthew Effect in Online Markets wi...   \n",
       "3           3  2017  Partitioned Sampling of Public Opinions Based ...   \n",
       "4           4  2017  Novel Geometric Approach for Global Alignment ...   \n",
       "6           6  2017     Profit-Driven Team Grouping in Social Networks   \n",
       "\n",
       "                                      authors_string  Countries  \\\n",
       "0  Sorour E. Amiri, Liangzhe Chen, B. Aditya Prakash         US   \n",
       "1            Franco Berbeglia, Pascal Van Hentenryck         US   \n",
       "3                   Weiran Huang, Liang Li, Wei Chen  China, US   \n",
       "4      Yangwei Liu, Hu Ding, Danyang Chen, Jinhui Xu         US   \n",
       "6                                       Shaojie Tang         US   \n",
       "\n",
       "                                     Institution   Institution Type  \n",
       "0                         Virginia Tech, Twitter  Academia, Company  \n",
       "1        Carnegie Mellon, University of Michigan           Academia  \n",
       "3  Ant Financial, Microsoft, Tsinghua University  Academia, Company  \n",
       "4        SUNY Buffalo, Michigan State University           Academia  \n",
       "6                                      UT Dallas           Academia  "
      ]
     },
     "execution_count": 85,
     "metadata": {},
     "output_type": "execute_result"
    }
   ],
   "source": [
    "us_papers['Countries'].fillna('UnknownCountry')\n",
    "us_papers.head()\n",
    "us_df = us_papers[us_papers['Countries'].str.contains('US', na=False)]\n",
    "us_df.head()"
   ]
  },
  {
   "cell_type": "code",
   "execution_count": 95,
   "metadata": {},
   "outputs": [
    {
     "name": "stdout",
     "output_type": "stream",
     "text": [
      "{1: 14798, 2: 4342, 3: 613, 4: 66, 6: 3, 5: 2, '0': 37}\n"
     ]
    }
   ],
   "source": [
    "collab_dict = {}\n",
    "\n",
    "for row in us_papers.iterrows():\n",
    "    country_rows = row[1]['Countries']\n",
    "    if isinstance(country_rows, str):\n",
    "        countries = country_rows.split(',')\n",
    "        collab_num = len(countries)\n",
    "        if collab_num in collab_dict:\n",
    "            collab_dict[collab_num] += 1\n",
    "        else:\n",
    "            collab_dict[collab_num] = 1\n",
    "    else:\n",
    "        if '0' in collab_dict:\n",
    "            collab_dict['0'] += 1\n",
    "        else:\n",
    "            collab_dict['0'] = 1\n",
    "            \n",
    "print(collab_dict)"
   ]
  },
  {
   "cell_type": "code",
   "execution_count": 115,
   "metadata": {},
   "outputs": [
    {
     "data": {
      "image/png": "[encoded data removed]",
      "text/plain": [
       "<Figure size 432x288 with 1 Axes>"
      ]
     },
     "metadata": {
      "needs_background": "light"
     },
     "output_type": "display_data"
    }
   ],
   "source": [
    "fig = plt.figure()\n",
    "ax = fig.add_axes([0,0,1,1])\n",
    "\n",
    "country_collabs = ['1', '2', '3', '4', '5' ,'6']\n",
    "collab_amt = [collab_dict[1], collab_dict[2], collab_dict[3], collab_dict[4], collab_dict[5], collab_dict[6]]\n",
    "ax.bar(country_collabs, collab_amt)\n",
    "plt.ylabel(\"Number of Collaborations\")\n",
    "plt.xlabel(\"Number of coauthors from different countries\")\n",
    "plt.title(\"International Collaboration measured by Co-authors\")\n",
    "plt.show()"
   ]
  },
  {
   "cell_type": "code",
   "execution_count": null,
   "metadata": {},
   "outputs": [],
   "source": [
    "G = nx.Graph()"
   ]
  },
  {
   "cell_type": "code",
   "execution_count": 3,
   "metadata": {},
   "outputs": [
    {
     "data": {
      "text/plain": [
       "(12302, 8)"
      ]
     },
     "execution_count": 3,
     "metadata": {},
     "output_type": "execute_result"
    }
   ],
   "source": [
    "comp_path = '/Users/jmak/Documents/A Schmidt Futures/project-dewey/Dewey2/output/filtered_titles_20200916-114613.csv'\n",
    "us_china_papers = pd.read_csv(comp_path)\n",
    "us_china_papers.shape"
   ]
  },
  {
   "cell_type": "code",
   "execution_count": 4,
   "metadata": {},
   "outputs": [
    {
     "data": {
      "text/html": [
       "<div>\n",
       "<style scoped>\n",
       "    .dataframe tbody tr th:only-of-type {\n",
       "        vertical-align: middle;\n",
       "    }\n",
       "\n",
       "    .dataframe tbody tr th {\n",
       "        vertical-align: top;\n",
       "    }\n",
       "\n",
       "    .dataframe thead th {\n",
       "        text-align: right;\n",
       "    }\n",
       "</style>\n",
       "<table border=\"1\" class=\"dataframe\">\n",
       "  <thead>\n",
       "    <tr style=\"text-align: right;\">\n",
       "      <th></th>\n",
       "      <th>Unnamed: 0</th>\n",
       "      <th>year</th>\n",
       "      <th>title</th>\n",
       "      <th>authors_string</th>\n",
       "      <th>Countries</th>\n",
       "      <th>Institution</th>\n",
       "      <th>Institution Type</th>\n",
       "      <th>OpenSource</th>\n",
       "    </tr>\n",
       "  </thead>\n",
       "  <tbody>\n",
       "    <tr>\n",
       "      <th>0</th>\n",
       "      <td>0</td>\n",
       "      <td>2017</td>\n",
       "      <td>SnapNETS: Automatic Segmentation of Network Se...</td>\n",
       "      <td>Sorour E. Amiri, Liangzhe Chen, B. Aditya Prakash</td>\n",
       "      <td>US</td>\n",
       "      <td>Virginia Tech, Twitter</td>\n",
       "      <td>Academia, Company</td>\n",
       "      <td>NotOpenSource</td>\n",
       "    </tr>\n",
       "    <tr>\n",
       "      <th>1</th>\n",
       "      <td>1</td>\n",
       "      <td>2017</td>\n",
       "      <td>Taming the Matthew Effect in Online Markets wi...</td>\n",
       "      <td>Franco Berbeglia, Pascal Van Hentenryck</td>\n",
       "      <td>US</td>\n",
       "      <td>Carnegie Mellon, University of Michigan</td>\n",
       "      <td>Academia</td>\n",
       "      <td>NotOpenSource</td>\n",
       "    </tr>\n",
       "    <tr>\n",
       "      <th>2</th>\n",
       "      <td>3</td>\n",
       "      <td>2017</td>\n",
       "      <td>Partitioned Sampling of Public Opinions Based ...</td>\n",
       "      <td>Weiran Huang, Liang Li, Wei Chen</td>\n",
       "      <td>China, US</td>\n",
       "      <td>Ant Financial, Microsoft, Tsinghua University</td>\n",
       "      <td>Academia, Company</td>\n",
       "      <td>NotOpenSource</td>\n",
       "    </tr>\n",
       "    <tr>\n",
       "      <th>3</th>\n",
       "      <td>4</td>\n",
       "      <td>2017</td>\n",
       "      <td>Novel Geometric Approach for Global Alignment ...</td>\n",
       "      <td>Yangwei Liu, Hu Ding, Danyang Chen, Jinhui Xu</td>\n",
       "      <td>US</td>\n",
       "      <td>Michigan State University, SUNY Buffalo</td>\n",
       "      <td>Academia</td>\n",
       "      <td>NotOpenSource</td>\n",
       "    </tr>\n",
       "    <tr>\n",
       "      <th>4</th>\n",
       "      <td>5</td>\n",
       "      <td>2017</td>\n",
       "      <td>Towards Better Understanding the Clothing Fash...</td>\n",
       "      <td>Yihui Ma, Jia Jia, Suping Zhou, Jingtian Fu, Y...</td>\n",
       "      <td>China</td>\n",
       "      <td>Beijing University of Posts and Telecommunicat...</td>\n",
       "      <td>Academia</td>\n",
       "      <td>NotOpenSource</td>\n",
       "    </tr>\n",
       "  </tbody>\n",
       "</table>\n",
       "</div>"
      ],
      "text/plain": [
       "   Unnamed: 0  year                                              title  \\\n",
       "0           0  2017  SnapNETS: Automatic Segmentation of Network Se...   \n",
       "1           1  2017  Taming the Matthew Effect in Online Markets wi...   \n",
       "2           3  2017  Partitioned Sampling of Public Opinions Based ...   \n",
       "3           4  2017  Novel Geometric Approach for Global Alignment ...   \n",
       "4           5  2017  Towards Better Understanding the Clothing Fash...   \n",
       "\n",
       "                                      authors_string  Countries  \\\n",
       "0  Sorour E. Amiri, Liangzhe Chen, B. Aditya Prakash         US   \n",
       "1            Franco Berbeglia, Pascal Van Hentenryck         US   \n",
       "2                   Weiran Huang, Liang Li, Wei Chen  China, US   \n",
       "3      Yangwei Liu, Hu Ding, Danyang Chen, Jinhui Xu         US   \n",
       "4  Yihui Ma, Jia Jia, Suping Zhou, Jingtian Fu, Y...      China   \n",
       "\n",
       "                                         Institution   Institution Type  \\\n",
       "0                             Virginia Tech, Twitter  Academia, Company   \n",
       "1            Carnegie Mellon, University of Michigan           Academia   \n",
       "2      Ant Financial, Microsoft, Tsinghua University  Academia, Company   \n",
       "3            Michigan State University, SUNY Buffalo           Academia   \n",
       "4  Beijing University of Posts and Telecommunicat...           Academia   \n",
       "\n",
       "      OpenSource  \n",
       "0  NotOpenSource  \n",
       "1  NotOpenSource  \n",
       "2  NotOpenSource  \n",
       "3  NotOpenSource  \n",
       "4  NotOpenSource  "
      ]
     },
     "execution_count": 4,
     "metadata": {},
     "output_type": "execute_result"
    }
   ],
   "source": [
    "us_china_papers.head()"
   ]
  },
  {
   "cell_type": "code",
   "execution_count": 15,
   "metadata": {},
   "outputs": [
    {
     "data": {
      "image/png": "[encoded data removed]",
      "text/plain": [
       "<Figure size 720x432 with 1 Axes>"
      ]
     },
     "metadata": {
      "needs_background": "light"
     },
     "output_type": "display_data"
    }
   ],
   "source": [
    "year_range = range(2013, 2020)\n",
    "us_df = us_china_papers[us_china_papers['Countries'] == 'US']\n",
    "us_yearly = []\n",
    "for year in year_range:\n",
    "    us_yearly.append(us_df[us_df['year'] == year].shape[0])\n",
    "\n",
    "china_df = us_china_papers[us_china_papers['Countries'] == 'China']\n",
    "china_yearly = []\n",
    "for year in year_range:\n",
    "    china_yearly.append(china_df[china_df['year'] == year].shape[0])\n",
    "    \n",
    "plt.figure(figsize=(10,6))\n",
    "plt.title(\"US vs China Publications\")\n",
    "plt.xlabel(\"Year\")\n",
    "plt.ylabel(\"# of Papers\")\n",
    "plt.plot(year_range, us_yearly, label='US AI Papers')\n",
    "plt.plot(year_range, china_yearly, label='China AI Papers')\n",
    "plt.legend()\n",
    "plt.show()\n"
   ]
  },
  {
   "cell_type": "code",
   "execution_count": 16,
   "metadata": {},
   "outputs": [
    {
     "data": {
      "text/plain": [
       "(6534, 8)"
      ]
     },
     "execution_count": 16,
     "metadata": {},
     "output_type": "execute_result"
    }
   ],
   "source": [
    "us_df.shape"
   ]
  },
  {
   "cell_type": "code",
   "execution_count": 25,
   "metadata": {},
   "outputs": [
    {
     "name": "stdout",
     "output_type": "stream",
     "text": [
      "{'Academia': 4394, 'Academia, Company': 1093, 'Company': 832, 'Academia, Independent Research': 94, 'Academia, Government': 38, 'Independent Research': 30, 'Government': 25, 'Academia, Company, Independent Research': 11, 'Company, Independent Research': 8, 'Company, Government': 5, 'Academia, Company, Government': 3, 'Academia, Government, Independent Research': 1}\n"
     ]
    }
   ],
   "source": [
    "types_dict = {}\n",
    "for row in us_df.iterrows():\n",
    "    inst_type = row[1]['Institution Type']\n",
    "    if isinstance(inst_type, str):\n",
    "        if inst_type in types_dict:\n",
    "            types_dict[inst_type] += 1\n",
    "        else:\n",
    "            types_dict[inst_type] = 1\n",
    "\n",
    "sorted_types_dict = {k: v for k, v in sorted(types_dict.items(), key=lambda item: item[1], reverse=True)}\n",
    "\n",
    "print(sorted_types_dict)"
   ]
  },
  {
   "cell_type": "code",
   "execution_count": 30,
   "metadata": {},
   "outputs": [
    {
     "data": {
      "image/png": "[encoded data removed]",
      "text/plain": [
       "<Figure size 432x288 with 1 Axes>"
      ]
     },
     "metadata": {
      "needs_background": "light"
     },
     "output_type": "display_data"
    }
   ],
   "source": [
    "fig = plt.figure()\n",
    "ax = fig.add_axes([0,0,1,1])\n",
    "keys = sorted_types_dict.keys()\n",
    "values = sorted_types_dict.values()\n",
    "\n",
    "plt.title(\"US Public Private Partnerships\")\n",
    "plt.xlabel(\"Collaboration Type\")\n",
    "plt.ylabel(\"Paper Count\")\n",
    "plt.bar(keys, values)\n",
    "plt.xticks(rotation = 90)\n",
    "plt.show()"
   ]
  },
  {
   "cell_type": "code",
   "execution_count": null,
   "metadata": {},
   "outputs": [],
   "source": []
  }
 ],
 "metadata": {
  "kernelspec": {
   "display_name": "Python 3",
   "language": "python",
   "name": "python3"
  },
  "language_info": {
   "codemirror_mode": {
    "name": "ipython",
    "version": 3
   },
   "file_extension": ".py",
   "mimetype": "text/x-python",
   "name": "python",
   "nbconvert_exporter": "python",
   "pygments_lexer": "ipython3",
   "version": "3.8.3"
  }
 },
 "nbformat": 4,
 "nbformat_minor": 4
}
