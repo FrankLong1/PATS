{
 "cells": [
  {
   "cell_type": "code",
   "execution_count": 4,
   "metadata": {},
   "outputs": [],
   "source": [
    "from BaseScraper import BaseScraper\n",
    "\n",
    "from bs4 import BeautifulSoup\n",
    "import requests\n",
    "\n",
    "\n"
   ]
  },
  {
   "cell_type": "code",
   "execution_count": 5,
   "metadata": {},
   "outputs": [],
   "source": [
    "class NeruipsScraper(BaseScraper):\n",
    "    _PAPER_FILES_LINK = \"https://papers.nips.cc/paper_files/paper/\""
   ]
  },
  {
   "cell_type": "markdown",
   "metadata": {},
   "source": [
    "This guy made a notebook also\n",
    "\n",
    "https://colab.research.google.com/drive/1u51Id90ML79UdZaKD23qglY0ZkEmmdwk?usp=sharing#scrollTo=metallic-aquatic"
   ]
  },
  {
   "cell_type": "code",
   "execution_count": 7,
   "metadata": {},
   "outputs": [
    {
     "name": "stdout",
     "output_type": "stream",
     "text": [
      "https://datasets-benchmarks-proceedings.neurips.cc/paper/2021\n",
      "/paper_files/paper/2022\n",
      "/paper_files/paper/2021\n",
      "/paper_files/paper/2020\n",
      "/paper_files/paper/2019\n",
      "/paper_files/paper/2018\n",
      "/paper_files/paper/2017\n",
      "/paper_files/paper/2016\n",
      "/paper_files/paper/2015\n",
      "/paper_files/paper/2014\n",
      "/paper_files/paper/2013\n",
      "/paper_files/paper/2012\n",
      "/paper_files/paper/2011\n",
      "/paper_files/paper/2010\n",
      "/paper_files/paper/2009\n",
      "/paper_files/paper/2008\n",
      "/paper_files/paper/2007\n",
      "/paper_files/paper/2006\n",
      "/paper_files/paper/2005\n",
      "/paper_files/paper/2004\n",
      "/paper_files/paper/2003\n",
      "/paper_files/paper/2002\n",
      "/paper_files/paper/2001\n",
      "/paper_files/paper/2000\n",
      "/paper_files/paper/1999\n",
      "/paper_files/paper/1998\n",
      "/paper_files/paper/1997\n",
      "/paper_files/paper/1996\n",
      "/paper_files/paper/1995\n",
      "/paper_files/paper/1994\n",
      "/paper_files/paper/1993\n",
      "/paper_files/paper/1992\n",
      "/paper_files/paper/1991\n",
      "/paper_files/paper/1990\n",
      "/paper_files/paper/1989\n",
      "/paper_files/paper/1988\n",
      "/paper_files/paper/1987\n"
     ]
    }
   ],
   "source": [
    "\n",
    "# Send an HTTP GET request to the URL\n",
    "response = requests.get(NeruipsScraper._PAPER_FILES_LINK)\n",
    "\n",
    "# Check if the request was successful\n",
    "if response.status_code == 200:\n",
    "    # Parse the HTML content using BeautifulSoup\n",
    "    soup = BeautifulSoup(response.content, \"html.parser\")\n",
    "\n",
    "    # Find all the links with href containing \"/paper/\"\n",
    "    links = soup.find_all(\"a\", href=lambda href: href and \"/paper/\" in href)\n",
    "\n",
    "    # Extract and print the href attribute of each link\n",
    "    for link in links:\n",
    "        print(link[\"href\"])\n",
    "else:\n",
    "    print(\"Failed to retrieve the HTML content.\")\n",
    "\n"
   ]
  },
  {
   "cell_type": "code",
   "execution_count": 8,
   "metadata": {},
   "outputs": [
    {
     "ename": "ModuleNotFoundError",
     "evalue": "No module named 'lxml'",
     "output_type": "error",
     "traceback": [
      "\u001b[0;31m---------------------------------------------------------------------------\u001b[0m",
      "\u001b[0;31mModuleNotFoundError\u001b[0m                       Traceback (most recent call last)",
      "\u001b[1;32m/Users/franklong/CS-Projects/PATS/Scrapers/NeuripsScraperPrototype.ipynb Cell 5\u001b[0m line \u001b[0;36m2\n\u001b[1;32m      <a href='vscode-notebook-cell:/Users/franklong/CS-Projects/PATS/Scrapers/NeuripsScraperPrototype.ipynb#W1sZmlsZQ%3D%3D?line=0'>1</a>\u001b[0m \u001b[39mimport\u001b[39;00m \u001b[39mrequests\u001b[39;00m\n\u001b[0;32m----> <a href='vscode-notebook-cell:/Users/franklong/CS-Projects/PATS/Scrapers/NeuripsScraperPrototype.ipynb#W1sZmlsZQ%3D%3D?line=1'>2</a>\u001b[0m \u001b[39mfrom\u001b[39;00m \u001b[39mlxml\u001b[39;00m \u001b[39mimport\u001b[39;00m etree\n\u001b[1;32m      <a href='vscode-notebook-cell:/Users/franklong/CS-Projects/PATS/Scrapers/NeuripsScraperPrototype.ipynb#W1sZmlsZQ%3D%3D?line=2'>3</a>\u001b[0m \u001b[39mfrom\u001b[39;00m \u001b[39mtqdm\u001b[39;00m \u001b[39mimport\u001b[39;00m tqdm\n\u001b[1;32m      <a href='vscode-notebook-cell:/Users/franklong/CS-Projects/PATS/Scrapers/NeuripsScraperPrototype.ipynb#W1sZmlsZQ%3D%3D?line=3'>4</a>\u001b[0m \u001b[39mimport\u001b[39;00m \u001b[39mjson\u001b[39;00m\n",
      "\u001b[0;31mModuleNotFoundError\u001b[0m: No module named 'lxml'"
     ]
    }
   ],
   "source": [
    "import requests\n",
    "from lxml import etree\n",
    "from tqdm import tqdm\n",
    "import json\n",
    "\n",
    "import matplotlib.pyplot as plt\n",
    "import seaborn as sns\n",
    "import re\n",
    "import json\n",
    "\n",
    "colors = sns.color_palette(n_colors=10)\n",
    "\n",
    "!mkdir figures\n",
    "\n",
    "import asyncio\n",
    "import aiohttp\n",
    "\n",
    "async def make_request(url, session):\n",
    "    # async with aiohttp.ClientSession() as session:\n",
    "    try:\n",
    "        async with session.get(url) as response:\n",
    "            return await response.text()\n",
    "    except Exception as e:\n",
    "        print(\"Unable to get url {} due to {}.\".format(url, e.__class__))"
   ]
  },
  {
   "cell_type": "code",
   "execution_count": null,
   "metadata": {},
   "outputs": [],
   "source": [
    "async def f(year):\n",
    "    req = requests.get(f'https://neurips.cc/Conferences/{year}/Schedule')\n",
    "    tree = etree.HTML(req.text)\n",
    "\n",
    "    posters = tree.findall(\".//div[@class='maincard narrower poster']\")\n",
    "    print(f\"There are {len(posters)} in NeurIPS {year}.\")\n",
    "    urls = []\n",
    "    for poster in posters:\n",
    "        id_ = poster.attrib['id'].split('_')[1]\n",
    "        urls.append(f'https://neurips.cc/Conferences/{year}/ScheduleMultitrack?event={id_}')\n",
    "    connector = aiohttp.TCPConnector(force_close=True)\n",
    "    async with aiohttp.ClientSession(connector=connector) as session:\n",
    "        tasks = [make_request(url, session) for url in urls]\n",
    "        responses = await asyncio.gather(*tasks)\n",
    "    all_information = []\n",
    "    for url, response in tqdm(zip(urls[:10],responses)):\n",
    "        if not response:\n",
    "            continue\n",
    "        print(url)\n",
    "        print(response)\n",
    "        poster_tree = etree.HTML(response)\n",
    "        event = poster_tree.find(\".//div[@class='eventName']\")\n",
    "        poster_title = event.text\n",
    "\n",
    "        information = poster_tree.findall(\".//div[@class='panel-body']\")\n",
    "\n",
    "        abstract = information[0].getchildren()[0].text\n",
    "        authors_information = information[1].getchildren()\n",
    "\n",
    "        authors = []\n",
    "\n",
    "        for auth in authors_information:\n",
    "\n",
    "            info = auth.getchildren()[0]\n",
    "\n",
    "            name = info.text\n",
    "            affiliation = ','.join([x.text for x in info.getchildren()]) if len(info.getchildren()) > 0 else None\n",
    "\n",
    "            authors.append({\n",
    "                'name': name,\n",
    "                'affiliation': affiliation\n",
    "            })\n",
    "\n",
    "        all_information.append({\n",
    "            'title': poster_title,\n",
    "            'abstract': abstract,\n",
    "            'authors': authors,\n",
    "            \"url\": url\n",
    "        })\n",
    "    with open(f'neurips_statistics{year}.json', 'w') as f:\n",
    "        json.dump(all_information, f, indent = 4)\n",
    "# await f(2023)"
   ]
  }
 ],
 "metadata": {
  "kernelspec": {
   "display_name": "PATS",
   "language": "python",
   "name": "python3"
  },
  "language_info": {
   "codemirror_mode": {
    "name": "ipython",
    "version": 3
   },
   "file_extension": ".py",
   "mimetype": "text/x-python",
   "name": "python",
   "nbconvert_exporter": "python",
   "pygments_lexer": "ipython3",
   "version": "3.12.0"
  }
 },
 "nbformat": 4,
 "nbformat_minor": 2
}
